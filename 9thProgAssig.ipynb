{
 "cells": [
  {
   "cell_type": "code",
   "execution_count": 1,
   "id": "1e1f12d4",
   "metadata": {},
   "outputs": [],
   "source": [
    "# 1. Write a Python program to check if the given number is a Disarium Number?"
   ]
  },
  {
   "cell_type": "code",
   "execution_count": 3,
   "id": "f453553a",
   "metadata": {},
   "outputs": [
    {
     "name": "stdout",
     "output_type": "stream",
     "text": [
      "Disarium Number\n"
     ]
    }
   ],
   "source": [
    "# Python Program to check whether a number is Disarium or not\n",
    "import math\n",
    "\n",
    "# Method to check whether a number is disarium or not\n",
    "def check(n):\n",
    "    \n",
    "    # Count digit is n.\n",
    "    count_digits = len(str(n))\n",
    "    \n",
    "    # compute sum of terms like digit multiplied by power of position\n",
    "    sum = 0 # initialize sum of terms\n",
    "    x = n\n",
    "    while (x!=0):\n",
    "        \n",
    "        # get the rightmost digit\n",
    "        r = x % 10\n",
    "        \n",
    "        # Sum the digits by powering according to positions\n",
    "        sum = (int) (sum + math.pow(r, count_digits))\n",
    "        count_digits = count_digits - 1\n",
    "        x = x//10\n",
    "        \n",
    "    # If sum is same as number, then number is\n",
    "    if sum == n :\n",
    "        return 1\n",
    "    else :\n",
    "        return 0\n",
    "    \n",
    "# Driver Method\n",
    "n = 135\n",
    "if (check(n) == 1):\n",
    "    print(\"Disarium Number\")\n",
    "else:\n",
    "    print(\"Not a Disarium Number\")\n",
    "    "
   ]
  },
  {
   "cell_type": "code",
   "execution_count": 4,
   "id": "1aacfe69",
   "metadata": {},
   "outputs": [],
   "source": [
    "# 2. Write a python program to print all disarium numbers between 1 to 100?"
   ]
  },
  {
   "cell_type": "code",
   "execution_count": 1,
   "id": "51f159b4",
   "metadata": {},
   "outputs": [
    {
     "name": "stdout",
     "output_type": "stream",
     "text": [
      "The disarium numbers between 1 and 100 are : \n",
      "1\n",
      "2\n",
      "3\n",
      "4\n",
      "5\n",
      "6\n",
      "7\n",
      "8\n",
      "9\n",
      "89\n"
     ]
    }
   ],
   "source": [
    "def length_calculation(my_val):\n",
    "    len_val = 0\n",
    "    while(my_val != 0):\n",
    "        len_val = len_val + 1\n",
    "        my_val = my_val//10\n",
    "    return len_val\n",
    "def digit_sum(my_num):\n",
    "    remaining = sum_val = 0\n",
    "    len_fun = length_calculation(my_num)\n",
    "    while(my_num > 0):\n",
    "        remaining = my_num%10\n",
    "        sum_val = sum_val + (remaining**len_fun)\n",
    "        my_num = my_num//10\n",
    "        len_fun = len_fun - 1\n",
    "    return sum_val\n",
    "ini_result = 0\n",
    "print(\"The disarium numbers between 1 and 100 are : \")\n",
    "for i in range(1, 101):\n",
    "    ini_result = digit_sum(i)\n",
    "    if(ini_result == i):\n",
    "        print(i)"
   ]
  },
  {
   "cell_type": "code",
   "execution_count": 2,
   "id": "9f46e149",
   "metadata": {},
   "outputs": [],
   "source": [
    "# 3. Write a Python Program to check if the given number is Happy Number?"
   ]
  },
  {
   "cell_type": "code",
   "execution_count": 4,
   "id": "fd031ada",
   "metadata": {},
   "outputs": [
    {
     "name": "stdout",
     "output_type": "stream",
     "text": [
      "82is a happy number\n"
     ]
    }
   ],
   "source": [
    "#isHappyNumber() will determine whether a number is happy or not\n",
    "def isHappyNumber(num):\n",
    "    rem = sum = 0;\n",
    "    \n",
    "    #Calculates the sum of squares of digits\n",
    "    while(num > 0):\n",
    "        rem = num%10;\n",
    "        sum = sum + (rem*rem);\n",
    "        num = num//10;\n",
    "    return sum;\n",
    "num = 82;\n",
    "result = num;\n",
    "\n",
    "while(result != 1 and result != 4):\n",
    "    result = isHappyNumber(result);\n",
    "    \n",
    "#Happy number always ends with 1\n",
    "if(result == 1):\n",
    "    print(str(num) + \"is a happy number\");\n",
    "#Unhappy number ends in a cycle of repeating numbers which contain 4\n",
    "elif(result==4):\n",
    "    print(str(num) + \"is not a happy number\")"
   ]
  },
  {
   "cell_type": "code",
   "execution_count": 5,
   "id": "f0936430",
   "metadata": {},
   "outputs": [],
   "source": [
    "# 4. Write a Python program to print all numbers between 1 and 100?"
   ]
  },
  {
   "cell_type": "code",
   "execution_count": 6,
   "id": "04f9a6b1",
   "metadata": {},
   "outputs": [
    {
     "name": "stdout",
     "output_type": "stream",
     "text": [
      "List of happy numbers between 1 and 100:\n",
      "1\n",
      " \n",
      "7\n",
      " \n",
      "10\n",
      " \n",
      "13\n",
      " \n",
      "19\n",
      " \n",
      "23\n",
      " \n",
      "28\n",
      " \n",
      "31\n",
      " \n",
      "32\n",
      " \n",
      "44\n",
      " \n",
      "49\n",
      " \n",
      "68\n",
      " \n",
      "70\n",
      " \n",
      "79\n",
      " \n",
      "82\n",
      " \n",
      "86\n",
      " \n",
      "91\n",
      " \n",
      "94\n",
      " \n",
      "97\n",
      " \n",
      "100\n",
      " \n"
     ]
    }
   ],
   "source": [
    "#isHappyNumber() will determine whether a number is happy or not\n",
    "def isHappyNumber(num):\n",
    "    rem = sum = 0;\n",
    "    \n",
    "    #Calculates the sum of squares of digit\n",
    "    while(num > 0):\n",
    "        rem = num%10;\n",
    "        sum = sum + (rem*rem);\n",
    "        num = num//10;\n",
    "    return sum;\n",
    "\n",
    "#Displays all happy numbers between 1 and 100\n",
    "print(\"List of happy numbers between 1 and 100:\");\n",
    "for i in range(1,101):\n",
    "    result = i;\n",
    "    \n",
    "    #Happy number always end with 1 and unhappy number ends in a cycle of repeating number\n",
    "    # which contains 4\n",
    "    while(result!= 1 and result!=4):\n",
    "        result = isHappyNumber(result);\n",
    "        \n",
    "    if(result==1):\n",
    "        print(i),\n",
    "        print(\" \",)"
   ]
  },
  {
   "cell_type": "code",
   "execution_count": 7,
   "id": "de19186c",
   "metadata": {},
   "outputs": [],
   "source": [
    "# 5. Write a Python program to determine whether the given number is a Harshad Number?"
   ]
  },
  {
   "cell_type": "code",
   "execution_count": 8,
   "id": "1a8f503a",
   "metadata": {},
   "outputs": [
    {
     "name": "stdout",
     "output_type": "stream",
     "text": [
      "156is a harshad number\n"
     ]
    }
   ],
   "source": [
    "num = 156;\n",
    "rem = sum = 0;\n",
    "\n",
    "#Make a copy of num and store it in variable n\n",
    "n = num;\n",
    "\n",
    "#Calculate sum of digits\n",
    "while(num > 0):\n",
    "    rem = num%10;\n",
    "    sum = sum + rem;\n",
    "    num = num//10;\n",
    "    \n",
    "# Checks whether the number is divisible by the sum of digits\n",
    "if(num%sum==0):\n",
    "    print(str(n) + \"is a harshad number\");\n",
    "else:\n",
    "    print(str(n) + \"is not a harshad number\");"
   ]
  },
  {
   "cell_type": "code",
   "execution_count": 9,
   "id": "c62cfb38",
   "metadata": {},
   "outputs": [],
   "source": [
    "# 6. Write a Python program to print all pronic numbers between 1 and 100?"
   ]
  },
  {
   "cell_type": "code",
   "execution_count": 10,
   "id": "e5925ed4",
   "metadata": {},
   "outputs": [
    {
     "name": "stdout",
     "output_type": "stream",
     "text": [
      "Pronic numbers between 1 and 100:\n",
      "2\n",
      " \n",
      "6\n",
      " \n",
      "12\n",
      " \n",
      "20\n",
      " \n",
      "30\n",
      " \n",
      "42\n",
      " \n",
      "56\n",
      " \n",
      "72\n",
      " \n",
      "90\n",
      " \n"
     ]
    }
   ],
   "source": [
    "#isPronicNumber() will determine whether a given number is pronic number or not\n",
    "def isPronicNumber(num):\n",
    "    flag = False;\n",
    "    \n",
    "    for j in range(1, num+1):\n",
    "        #checks for pronic number by multiplying consecutive numbers\n",
    "        if(j*(j+1) == num):\n",
    "            flag = True;\n",
    "            break;\n",
    "    return flag;\n",
    "\n",
    "#Displays pronic numbers between 1 and 100\n",
    "print(\"Pronic numbers between 1 and 100:\");\n",
    "for i in range(1,101):\n",
    "    if(isPronicNumber(i)):\n",
    "        print(i),\n",
    "        print(\" \"),\n",
    "            "
   ]
  },
  {
   "cell_type": "code",
   "execution_count": null,
   "id": "64ab1290",
   "metadata": {},
   "outputs": [],
   "source": []
  }
 ],
 "metadata": {
  "kernelspec": {
   "display_name": "Python 3 (ipykernel)",
   "language": "python",
   "name": "python3"
  },
  "language_info": {
   "codemirror_mode": {
    "name": "ipython",
    "version": 3
   },
   "file_extension": ".py",
   "mimetype": "text/x-python",
   "name": "python",
   "nbconvert_exporter": "python",
   "pygments_lexer": "ipython3",
   "version": "3.9.12"
  }
 },
 "nbformat": 4,
 "nbformat_minor": 5
}
