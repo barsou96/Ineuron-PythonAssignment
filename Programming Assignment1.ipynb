{
 "cells": [
  {
   "cell_type": "code",
   "execution_count": 1,
   "id": "1b40ef42",
   "metadata": {},
   "outputs": [],
   "source": [
    "# 1. write a python program to print \"Hello Python\"?"
   ]
  },
  {
   "cell_type": "code",
   "execution_count": 2,
   "id": "d259946f",
   "metadata": {},
   "outputs": [
    {
     "name": "stdout",
     "output_type": "stream",
     "text": [
      "Hello World\n"
     ]
    }
   ],
   "source": [
    "print(\"Hello World\")"
   ]
  },
  {
   "cell_type": "code",
   "execution_count": 3,
   "id": "68232704",
   "metadata": {},
   "outputs": [
    {
     "name": "stdout",
     "output_type": "stream",
     "text": [
      "Hello World"
     ]
    },
    {
     "data": {
      "text/plain": [
       "11"
      ]
     },
     "execution_count": 3,
     "metadata": {},
     "output_type": "execute_result"
    }
   ],
   "source": [
    "import sys\n",
    "sys.stdout.write(\"Hello World\")"
   ]
  },
  {
   "cell_type": "code",
   "execution_count": 4,
   "id": "c3ebe760",
   "metadata": {},
   "outputs": [],
   "source": [
    "# 2. Write a Python program to do arithmetical operations addition and division?"
   ]
  },
  {
   "cell_type": "code",
   "execution_count": 5,
   "id": "83a6e072",
   "metadata": {},
   "outputs": [
    {
     "name": "stdout",
     "output_type": "stream",
     "text": [
      "Please Enter the First Value Number 1: 11\n",
      "Please Enter the Second Value Number 2: 21\n",
      "The Sum of 11.0 and 21.0 = 32.0\n",
      "The Subtraction of 21.0 from 11.0 = -10.0\n",
      "The Multiplication of 11.0 and 21.0 = 231.0\n",
      "The Division of 11.0 and 21.0 = 0.5238095238095238\n",
      "The Modulus of 11.0 and 21.0 = 11.0\n",
      "The Exponent Value of 11.0 and 21.0 = 11.0\n",
      "The Exponent Value of 11.0 and 21.0 = 7.40024994425816e+21\n"
     ]
    }
   ],
   "source": [
    "num1 = float(input(\"Please Enter the First Value Number 1: \"))\n",
    "num2 = float(input(\"Please Enter the Second Value Number 2: \"))\n",
    "\n",
    "# Add Two Numbers\n",
    "add = num1 + num2\n",
    "# Subtracting num2 from num1\n",
    "sub = num1 - num2\n",
    "# Multiply num1 with num2\n",
    "multi = num1 * num2\n",
    "# Divide num1 by num2\n",
    "div = num1 / num2\n",
    "# Modulus of num1 and num2\n",
    "mod = num1 % num2\n",
    "# Exponent of num1 and num2\n",
    "expo = num1 ** num2\n",
    "\n",
    "print(\"The Sum of {0} and {1} = {2}\".format(num1, num2, add))\n",
    "print(\"The Subtraction of {0} from {1} = {2}\".format(num2, num1, sub))\n",
    "print(\"The Multiplication of {0} and {1} = {2}\".format(num1, num2, multi))\n",
    "print(\"The Division of {0} and {1} = {2}\".format(num1, num2, div))\n",
    "print(\"The Modulus of {0} and {1} = {2}\".format(num1, num2, mod))\n",
    "print(\"The Exponent Value of {0} and {1} = {2}\".format(num1, num2, mod))\n",
    "print(\"The Exponent Value of {0} and {1} = {2}\".format(num1, num2, expo))"
   ]
  },
  {
   "cell_type": "code",
   "execution_count": 6,
   "id": "ad0e291e",
   "metadata": {},
   "outputs": [],
   "source": [
    "#3. Write a python program to find the area of a traingle?"
   ]
  },
  {
   "cell_type": "code",
   "execution_count": 8,
   "id": "f0f6052d",
   "metadata": {},
   "outputs": [
    {
     "name": "stdout",
     "output_type": "stream",
     "text": [
      "Enter the first side: 21\n",
      "Enter the second side: 22\n",
      "Enter the third side: 23\n",
      "The area of the triangle is 208.71\n"
     ]
    }
   ],
   "source": [
    "a = float(input('Enter the first side: '))\n",
    "b = float(input('Enter the second side: '))\n",
    "c = float(input('Enter the third side: '))\n",
    "# calculate the semi-perimeter\n",
    "s = (a + b + c) / 2\n",
    "#calculate the area\n",
    "area = (s*(s-a)*(s-b)*(s-c)) ** 0.5\n",
    "print('The area of the triangle is %0.2f' %area)"
   ]
  },
  {
   "cell_type": "code",
   "execution_count": 9,
   "id": "b0465975",
   "metadata": {},
   "outputs": [],
   "source": [
    "# 4. Write a Python program to swap two variables?"
   ]
  },
  {
   "cell_type": "code",
   "execution_count": 10,
   "id": "be5f8b0d",
   "metadata": {},
   "outputs": [
    {
     "name": "stdout",
     "output_type": "stream",
     "text": [
      "Value of x: 50\n",
      "Value of y: 10\n"
     ]
    }
   ],
   "source": [
    "x = 10\n",
    "y = 50\n",
    "# Swapping of two variables\n",
    "# using third variable\n",
    "temp = x\n",
    "x = y\n",
    "y = temp\n",
    "\n",
    "print(\"Value of x:\", x)\n",
    "print(\"Value of y:\", y)"
   ]
  },
  {
   "cell_type": "code",
   "execution_count": 11,
   "id": "695dd363",
   "metadata": {},
   "outputs": [
    {
     "name": "stdout",
     "output_type": "stream",
     "text": [
      "Value of x: 50\n",
      "Value of y: 10\n"
     ]
    }
   ],
   "source": [
    "# method 2, using comma operator, using the comma operator the value can be \n",
    "# swapped without using a third variable\n",
    "x = 10\n",
    "y = 50\n",
    "# Swapping of two variables\n",
    "# without using third variable\n",
    "x , y = y , x\n",
    "print(\"Value of x:\", x)\n",
    "print(\"Value of y:\", y)"
   ]
  },
  {
   "cell_type": "code",
   "execution_count": 12,
   "id": "a94579c8",
   "metadata": {},
   "outputs": [],
   "source": [
    "# 5. Write a python program to generate a random number?\n"
   ]
  },
  {
   "cell_type": "code",
   "execution_count": 1,
   "id": "03172683",
   "metadata": {},
   "outputs": [
    {
     "name": "stdout",
     "output_type": "stream",
     "text": [
      "1\n",
      "s\n"
     ]
    }
   ],
   "source": [
    "import random\n",
    "# prints a random value from the list\n",
    "list1 = [1,2,3,4,5,6]\n",
    "print(random.choice(list1))\n",
    "\n",
    "#print a random item from the string\n",
    "string = \"striver\"\n",
    "print(random.choice(string))"
   ]
  },
  {
   "cell_type": "code",
   "execution_count": null,
   "id": "dfa5c1aa",
   "metadata": {},
   "outputs": [],
   "source": []
  },
  {
   "cell_type": "code",
   "execution_count": null,
   "id": "0ece188b",
   "metadata": {},
   "outputs": [],
   "source": []
  }
 ],
 "metadata": {
  "kernelspec": {
   "display_name": "Python 3 (ipykernel)",
   "language": "python",
   "name": "python3"
  },
  "language_info": {
   "codemirror_mode": {
    "name": "ipython",
    "version": 3
   },
   "file_extension": ".py",
   "mimetype": "text/x-python",
   "name": "python",
   "nbconvert_exporter": "python",
   "pygments_lexer": "ipython3",
   "version": "3.9.12"
  }
 },
 "nbformat": 4,
 "nbformat_minor": 5
}
