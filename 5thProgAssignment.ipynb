{
 "cells": [
  {
   "cell_type": "code",
   "execution_count": 1,
   "id": "2ac75b76",
   "metadata": {},
   "outputs": [],
   "source": [
    "# 1. Write a Python Program to Find LCM?"
   ]
  },
  {
   "cell_type": "code",
   "execution_count": 4,
   "id": "50482165",
   "metadata": {},
   "outputs": [
    {
     "name": "stdout",
     "output_type": "stream",
     "text": [
      "Enter First Number \n",
      "5\n",
      "Enter Second  Number \n",
      "46\n",
      "The LCM of 5 and 46 is 230\n"
     ]
    }
   ],
   "source": [
    "a = int(input(\"Enter First Number \\n\"))\n",
    "b = int(input(\"Enter Second  Number \\n\"))\n",
    "maxNum = max(a,b)\n",
    "\n",
    "while(True):\n",
    "    if (maxNum%a == 0 and maxNum%b == 0):\n",
    "        break\n",
    "    maxNum = maxNum + 1\n",
    "    \n",
    "print(f\"The LCM of {a} and {b} is {maxNum}\")\n",
    "    "
   ]
  },
  {
   "cell_type": "code",
   "execution_count": 5,
   "id": "e2100ef7",
   "metadata": {},
   "outputs": [],
   "source": [
    "# 2. Write a python Program to find HCF ?"
   ]
  },
  {
   "cell_type": "code",
   "execution_count": 1,
   "id": "547b6639",
   "metadata": {},
   "outputs": [
    {
     "name": "stdout",
     "output_type": "stream",
     "text": [
      "Enter first number \n",
      "12\n",
      "Enter second number \n",
      "16\n",
      "The HCF of these two numbers is 4\n"
     ]
    }
   ],
   "source": [
    "num1 = int(input(\"Enter first number \\n\"))\n",
    "num2 = int(input(\"Enter second number \\n\"))\n",
    "\n",
    "if num2 > num1 :\n",
    "    mn = num1\n",
    "else:\n",
    "    mn = num2\n",
    "    \n",
    "for i in range(1,mn+1):\n",
    "    if num1%i==0 and num2%i==0:\n",
    "        hcf=i\n",
    "        \n",
    "print(f\"The HCF of these two numbers is {hcf}\")"
   ]
  },
  {
   "cell_type": "code",
   "execution_count": 2,
   "id": "fb8e92b7",
   "metadata": {},
   "outputs": [],
   "source": [
    "# 3. Write a Python Program to convert Decimal to Binary, Octal and Hexadecimal?"
   ]
  },
  {
   "cell_type": "code",
   "execution_count": 3,
   "id": "b2e10e99",
   "metadata": {
    "scrolled": true
   },
   "outputs": [
    {
     "name": "stdout",
     "output_type": "stream",
     "text": [
      "The decimal value of 345 is:\n",
      "0b101011001 in binary.\n",
      "0o531 in octal.\n",
      "0x159 in hexadecimal.\n"
     ]
    }
   ],
   "source": [
    "# Python program to convert decimal into other number systems\n",
    "dec = 345\n",
    "\n",
    "print(\"The decimal value of\", dec, \"is:\")\n",
    "print(bin(dec), \"in binary.\")\n",
    "print(oct(dec), \"in octal.\")\n",
    "print(hex(dec), \"in hexadecimal.\")"
   ]
  },
  {
   "cell_type": "code",
   "execution_count": 1,
   "id": "dc9ac171",
   "metadata": {},
   "outputs": [],
   "source": [
    "# 4. Write a python program to find ASCII value of a charecter?"
   ]
  },
  {
   "cell_type": "code",
   "execution_count": 2,
   "id": "d40a45de",
   "metadata": {},
   "outputs": [
    {
     "name": "stdout",
     "output_type": "stream",
     "text": [
      "The ASCII value of  p is 112\n"
     ]
    }
   ],
   "source": [
    "# Program to find the ASCII vslue of the given charecter\n",
    "c = 'p'\n",
    "print(\"The ASCII value of  \" + c + \" is\", ord(c))"
   ]
  },
  {
   "cell_type": "code",
   "execution_count": 4,
   "id": "5a41c2e9",
   "metadata": {},
   "outputs": [],
   "source": [
    "# 5. Write a Python Program to make a simple calculator with 4 basic mathematical operations?"
   ]
  },
  {
   "cell_type": "code",
   "execution_count": 6,
   "id": "c9ac3f29",
   "metadata": {},
   "outputs": [
    {
     "name": "stdout",
     "output_type": "stream",
     "text": [
      "Select operation.\n",
      "1.Add\n",
      "2.Subtract\n",
      "3.Multiply\n",
      "4.Divide\n",
      "Enter choice(1/2/3/4): 2\n",
      "Enter first number: 22\n",
      "Enter second number: 22\n",
      "22.0 - 22.0 = 0.0\n",
      "Let's do next calculation? (yes/no): no\n"
     ]
    }
   ],
   "source": [
    "# This function adds two numbers \n",
    "def add(x,y):\n",
    "    return x + y\n",
    "\n",
    "# This function subtracts two numbers \n",
    "def subtract(x,y):\n",
    "    return x - y\n",
    "\n",
    "#This function multiplies two numbers\n",
    "def multiply(x,y):\n",
    "    return x * y\n",
    "\n",
    "# This function divides two numbers\n",
    "def divide(x,y):\n",
    "    return x / y\n",
    "\n",
    "print(\"Select operation.\")\n",
    "print(\"1.Add\")\n",
    "print(\"2.Subtract\")\n",
    "print(\"3.Multiply\")\n",
    "print(\"4.Divide\")\n",
    "\n",
    "while True:\n",
    "    # take input from the user\n",
    "    choice = input(\"Enter choice(1/2/3/4): \")\n",
    "    \n",
    "    # check if choice is one of the four options\n",
    "    if choice in ('1', '2', '3', '4'):\n",
    "        try:\n",
    "            num1 = float(input(\"Enter first number: \"))\n",
    "            num2 = float(input(\"Enter second number: \"))\n",
    "        except ValueError:\n",
    "            print(\"Invalid input. Please enter a number.\")\n",
    "            continue\n",
    "            \n",
    "        if choice == '1':\n",
    "            print(num1, \"+\", num2, \"=\", add(num1, num2))\n",
    "            \n",
    "        elif choice == '2':\n",
    "            print(num1, \"-\", num2, \"=\", subtract(num1, num2))\n",
    "            \n",
    "        elif choice == '3':\n",
    "            print(num1, \"*\", num2, \"=\", multiply(num1,num2))\n",
    "            \n",
    "        elif choice == '4':\n",
    "            print(num1, \"/\", num2, \"=\", divide(num1, num2))\n",
    "            \n",
    "        # check if user wants another calculation\n",
    "        # break the while loop if answer is no\n",
    "        next_calculation = input(\"Let's do next calculation? (yes/no): \")\n",
    "        if next_calculation == \"no\":\n",
    "            break\n",
    "    else:\n",
    "        print(\"Invalid Input\")"
   ]
  },
  {
   "cell_type": "code",
   "execution_count": null,
   "id": "5d907e56",
   "metadata": {},
   "outputs": [],
   "source": []
  }
 ],
 "metadata": {
  "kernelspec": {
   "display_name": "Python 3 (ipykernel)",
   "language": "python",
   "name": "python3"
  },
  "language_info": {
   "codemirror_mode": {
    "name": "ipython",
    "version": 3
   },
   "file_extension": ".py",
   "mimetype": "text/x-python",
   "name": "python",
   "nbconvert_exporter": "python",
   "pygments_lexer": "ipython3",
   "version": "3.9.12"
  }
 },
 "nbformat": 4,
 "nbformat_minor": 5
}
