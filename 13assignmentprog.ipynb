{
 "cells": [
  {
   "cell_type": "raw",
   "id": "7b2cf885",
   "metadata": {},
   "source": [
    "1. Write a program that calculates and prints the value according to the given formula:\n",
    "Q = Square root of [(2 * C * D)/H]\n",
    "Following are the fixed values of C and H:\n",
    "C is 50. H is 30.\n",
    "D is the variable whose values should be input to your program in a comma-separated\n",
    "sequence.\n",
    "Example\n",
    "Let us assume the following comma separated input sequence is given to the program:\n",
    "100,150,180\n",
    "The output of the program should be:\n",
    "18,22,24"
   ]
  },
  {
   "cell_type": "code",
   "execution_count": 1,
   "id": "4f856192",
   "metadata": {},
   "outputs": [
    {
     "name": "stdout",
     "output_type": "stream",
     "text": [
      "Provide D: 20\n",
      "[8]\n"
     ]
    }
   ],
   "source": [
    "import math\n",
    "\n",
    "numbers = input(\"Provide D: \")\n",
    "numbers = numbers.split(',')\n",
    "\n",
    "result_list = []\n",
    "for D in numbers:\n",
    "    Q = round(math.sqrt(2 * 50 * int(D) / 30))\n",
    "    result_list.append(Q)\n",
    "    \n",
    "print(result_list)"
   ]
  },
  {
   "cell_type": "raw",
   "id": "b1e8a334",
   "metadata": {},
   "source": [
    "Question 2:\n",
    "Write a program which takes 2 digits, X,Y as input and generates a 2-dimensional array. The\n",
    "element value in the i-th row and j-th column of the array should be i*j.\n",
    "Note: i=0,1.., X-1; j=0,1,¡Y-1.\n",
    "Example\n",
    "Suppose the following inputs are given to the program:\n",
    "3,5\n",
    "Then, the output of the program should be:\n",
    "[[0, 0, 0, 0, 0], [0, 1, 2, 3, 4], [0, 2, 4, 6, 8]]"
   ]
  },
  {
   "cell_type": "code",
   "execution_count": 1,
   "id": "8a512f7f",
   "metadata": {},
   "outputs": [
    {
     "name": "stdout",
     "output_type": "stream",
     "text": [
      "Input number of rows: 3\n",
      "Input number of columns: 4\n",
      "[[0, 0, 0, 0], [0, 1, 2, 3], [0, 2, 4, 6]]\n"
     ]
    }
   ],
   "source": [
    "row_num = int(input(\"Input number of rows: \"))\n",
    "col_num = int(input(\"Input number of columns: \"))\n",
    "multi_list = [[0 for col in range(col_num)] for row in range(row_num)]\n",
    "\n",
    "for row in range(row_num):\n",
    "    for col in range(col_num):\n",
    "        multi_list[row][col] = row*col\n",
    "        \n",
    "print(multi_list)"
   ]
  },
  {
   "cell_type": "raw",
   "id": "8ef08c24",
   "metadata": {},
   "source": [
    "Question 3:\n",
    "Write a program that accepts a comma separated sequence of words as input and prints the\n",
    "words in a comma-separated sequence after sorting them alphabetically.\n",
    "Suppose the following input is supplied to the program:\n",
    "without,hello,bag,world\n",
    "Then, the output should be:\n",
    "bag,hello,without,world"
   ]
  },
  {
   "cell_type": "code",
   "execution_count": 2,
   "id": "dc68db7d",
   "metadata": {},
   "outputs": [
    {
     "name": "stdout",
     "output_type": "stream",
     "text": [
      "Input coma separated sequence of wordswithout,hello,bag,world\n",
      "bag,hello,without,world\n"
     ]
    }
   ],
   "source": [
    "items = input(\"Input coma separated sequence of words\")\n",
    "words = [word for word in items.split(\",\")]\n",
    "print(\",\".join(sorted(list(words))))"
   ]
  },
  {
   "cell_type": "raw",
   "id": "d0633630",
   "metadata": {},
   "source": [
    "Question 4:\n",
    "Write a program that accepts a sequence of whitespace separated words as input and prints\n",
    "the words after removing all duplicate words and sorting them alphanumerically.\n",
    "Suppose the following input is supplied to the program:\n",
    "hello world and practice makes perfect and hello world again\n",
    "Then, the output should be:\n",
    "again and hello makes perfect practice world"
   ]
  },
  {
   "cell_type": "code",
   "execution_count": 5,
   "id": "bb685119",
   "metadata": {},
   "outputs": [
    {
     "name": "stdout",
     "output_type": "stream",
     "text": [
      "hello world and practice makes perfect and hello world again\n",
      "again and hello makes perfect practice world\n"
     ]
    }
   ],
   "source": [
    "s=input()\n",
    "words=[word for word in s.split(\" \")]\n",
    "print(\" \".join(sorted(list(set(words)))))"
   ]
  },
  {
   "cell_type": "raw",
   "id": "7db9d29c",
   "metadata": {},
   "source": [
    "Question 5:\n",
    "Write a program that accepts a sentence and calculate the number of letters and digits.\n",
    "Suppose the following input is supplied to the program:\n",
    "hello world! 123\n",
    "Then, the output should be:\n",
    "LETTERS 10\n",
    "DIGITS 3"
   ]
  },
  {
   "cell_type": "code",
   "execution_count": 7,
   "id": "5abf8196",
   "metadata": {},
   "outputs": [
    {
     "name": "stdout",
     "output_type": "stream",
     "text": [
      "hello world ! 123\n",
      "LETTERS 10\n",
      "DIGITS 3\n"
     ]
    }
   ],
   "source": [
    "s = input()\n",
    "d={\"DIGITS\":0, \"LETTERS\":0}\n",
    "for c in s:\n",
    "    if c.isdigit():\n",
    "        d[\"DIGITS\"]+=1\n",
    "    elif c.isalpha():\n",
    "        d[\"LETTERS\"]+=1\n",
    "    else:\n",
    "        pass\n",
    "print(\"LETTERS\",d[\"LETTERS\"])\n",
    "print(\"DIGITS\",d[\"DIGITS\"])"
   ]
  },
  {
   "cell_type": "raw",
   "id": "15b677b3",
   "metadata": {},
   "source": [
    "Question 6:\n",
    "A website requires the users to input username and password to register. Write a program to\n",
    "check the validity of password input by users.\n",
    "Following are the criteria for checking the password:\n",
    "1. At least 1 letter between [a-z]\n",
    "2. At least 1 number between [0-9]\n",
    "1. At least 1 letter between [A-Z]\n",
    "3. At least 1 character from [$#@]\n",
    "4. Minimum length of transaction password: 6\n",
    "5. Maximum length of transaction password: 12\n",
    "Your program should accept a sequence of comma separated passwords and will check them\n",
    "according to the above criteria. Passwords that match the criteria are to be printed, each\n",
    "separated by a comma.\n",
    "Example\n",
    "If the following passwords are given as input to the program:\n",
    "ABd1234@1,a F1#,2w3E*,2We3345\n",
    "Then, the output of the program should be:\n",
    "ABd1234@1"
   ]
  },
  {
   "cell_type": "code",
   "execution_count": 12,
   "id": "83bfc3ca",
   "metadata": {},
   "outputs": [
    {
     "ename": "SyntaxError",
     "evalue": "invalid syntax (1828706491.py, line 28)",
     "output_type": "error",
     "traceback": [
      "\u001b[1;36m  Input \u001b[1;32mIn [12]\u001b[1;36m\u001b[0m\n\u001b[1;33m    print Check_validity(password)\u001b[0m\n\u001b[1;37m          ^\u001b[0m\n\u001b[1;31mSyntaxError\u001b[0m\u001b[1;31m:\u001b[0m invalid syntax\n"
     ]
    }
   ],
   "source": [
    "import warnings\n",
    "password = 'P@ss1234'\n",
    "def check_number(s):\n",
    "    '''Check whether the input string is a digit. '''\n",
    "    try:\n",
    "        int(s)\n",
    "        return True\n",
    "    except:\n",
    "        # do not catch error\n",
    "        return False\n",
    "def check_validity(pw):\n",
    "    '''Return True if input pw is valid, and return False if invalid. '''\n",
    "    special_chars = ['$', '#', '@']\n",
    "    if isinstance(pw,str): pw=list(pw) # I could have appointed to a diff var name\n",
    "    else: warning.warn('Password has to be a string object.')\n",
    "    res = False\n",
    "    valid_dict={'small_let':False, 'num':False, 'special_chars':False,\n",
    "               'cap_let':False, 'len':False} # is using a dict efficient?\n",
    "    if len(pw)>=6: valid_dict['len']=True\n",
    "    for i in pw:\n",
    "        if i.islower(): valid_dict['small_let'] = True\n",
    "        if i in special_chars: valid_dict['special_chars'] = True\n",
    "        if i.isupper(): valid_dict['cap_let'] = True\n",
    "        if not valid_dict['num']: valid_dict['num'] = check_number(i)\n",
    "    if all(valid_dict.values()): res = True\n",
    "    return res\n",
    "\n",
    "print Check_validity(password)"
   ]
  },
  {
   "cell_type": "code",
   "execution_count": null,
   "id": "7919f403",
   "metadata": {},
   "outputs": [],
   "source": []
  }
 ],
 "metadata": {
  "kernelspec": {
   "display_name": "Python 3 (ipykernel)",
   "language": "python",
   "name": "python3"
  },
  "language_info": {
   "codemirror_mode": {
    "name": "ipython",
    "version": 3
   },
   "file_extension": ".py",
   "mimetype": "text/x-python",
   "name": "python",
   "nbconvert_exporter": "python",
   "pygments_lexer": "ipython3",
   "version": "3.9.12"
  }
 },
 "nbformat": 4,
 "nbformat_minor": 5
}
