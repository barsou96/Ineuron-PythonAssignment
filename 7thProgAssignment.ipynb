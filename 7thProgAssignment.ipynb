{
 "cells": [
  {
   "cell_type": "code",
   "execution_count": 1,
   "id": "0e4f80c4",
   "metadata": {},
   "outputs": [],
   "source": [
    "# 1. Write a python program to find sum of array?"
   ]
  },
  {
   "cell_type": "code",
   "execution_count": 2,
   "id": "99f59adb",
   "metadata": {},
   "outputs": [
    {
     "name": "stdout",
     "output_type": "stream",
     "text": [
      "Sum of the array is  34\n"
     ]
    }
   ],
   "source": [
    "# code to find sum of elements in given array\n",
    "\n",
    "def _sum(arr):\n",
    "    # initialize a variable to store the sum while iterating through the array later\n",
    "    sum = 0\n",
    "    \n",
    "    # iterate through the array and add each element to the sum variable one at a time\n",
    "    for i in arr:\n",
    "        sum = sum + i\n",
    "    return(sum)\n",
    "\n",
    "# driver function\n",
    "arr = []\n",
    "# input values to list\n",
    "arr = [12,3,4,15]\n",
    "\n",
    "# calculating length of array\n",
    "n = len(arr)\n",
    "\n",
    "ans  = _sum(arr)\n",
    "\n",
    "# display sum\n",
    "print('Sum of the array is ', ans)"
   ]
  },
  {
   "cell_type": "code",
   "execution_count": 3,
   "id": "7bcdc616",
   "metadata": {},
   "outputs": [],
   "source": [
    "# 2. Write a Python program to find the largest element in an array?"
   ]
  },
  {
   "cell_type": "code",
   "execution_count": 4,
   "id": "faff9b59",
   "metadata": {},
   "outputs": [
    {
     "name": "stdout",
     "output_type": "stream",
     "text": [
      "Largest in given array  9808\n"
     ]
    }
   ],
   "source": [
    "# python function to find maximum in arr[] of size n\n",
    "def largest(arr, n):\n",
    "    # Initialize maximum element\n",
    "    max = arr[0]\n",
    "    \n",
    "    # Transverse array elements from second and compare every element with current max\n",
    "    for i in range(1,n):\n",
    "        if arr[i] > max:\n",
    "            max = arr[i]\n",
    "    return max\n",
    "\n",
    "# Driver Code\n",
    "arr = [10,324,45,90,9808]\n",
    "n = len(arr)\n",
    "Ans = largest(arr, n)\n",
    "print(\"Largest in given array \", Ans)"
   ]
  },
  {
   "cell_type": "code",
   "execution_count": 5,
   "id": "b3933d45",
   "metadata": {},
   "outputs": [],
   "source": [
    "# 3. Write a Python program for array rotation?"
   ]
  },
  {
   "cell_type": "code",
   "execution_count": 3,
   "id": "c32ce6a7",
   "metadata": {},
   "outputs": [
    {
     "name": "stdout",
     "output_type": "stream",
     "text": [
      "enter number: 5\n",
      "Enter the value one by one\n",
      "1\n",
      "2\n",
      "3\n",
      "4\n",
      "6\n",
      "by how much you want to rotate 4\n",
      "[2, 3, 4, 6, 1]\n"
     ]
    }
   ],
   "source": [
    "def rev(t1, start, end):\n",
    "    i = start\n",
    "    j = end\n",
    "    while i < j:\n",
    "        tp = t1[i]\n",
    "        t1[i] = t1[j]\n",
    "        t1[j] = tp\n",
    "        i+=1\n",
    "        j-=1\n",
    "        \n",
    "def rotate(t2, k):\n",
    "    n = len(t2)\n",
    "    k = k%n\n",
    "    if k < 0:\n",
    "        k = k+n\n",
    "    #reverse part1\n",
    "    rev(t2, 0, n-k-1)\n",
    "    #reverse part2\n",
    "    rev(t2, n-k, n-1)\n",
    "    #reverse full\n",
    "    rev(t2, 0, n-1)\n",
    "    \n",
    "n = int(input(\"enter number: \"))\n",
    "lt = []\n",
    "print(\"Enter the value one by one\")\n",
    "for i in range (0,n):\n",
    "    lt.append(int(input()))\n",
    "k = int(input(\"by how much you want to rotate \"))\n",
    "rotate(lt,k)\n",
    "#print the list\n",
    "print(lt)"
   ]
  },
  {
   "cell_type": "code",
   "execution_count": 1,
   "id": "77a2f0c6",
   "metadata": {},
   "outputs": [],
   "source": [
    "# 4. Write a Python Program to split the array and add the first part to the end?"
   ]
  },
  {
   "cell_type": "code",
   "execution_count": 2,
   "id": "adbd07ce",
   "metadata": {},
   "outputs": [
    {
     "name": "stdout",
     "output_type": "stream",
     "text": [
      "11 12 12 14 7 8 9 10 "
     ]
    }
   ],
   "source": [
    "# python program to split array and move first part to end.\n",
    "def splitArr(arr, n, k):  # here arr takes array, n is no. of element in array, k is the pos. of split\n",
    "    for i in range(0, k):\n",
    "        x = arr[0] # assigns the first element of array to var. x\n",
    "        for j in range(0, n-1):  # n-1 because n-1 is the last element of array, loop excludes that\n",
    "            arr[j] = arr[j+1] #swaps the preceeding to next and vice versa\n",
    "        arr[n-1] = x # last element assigned first element\n",
    "        \n",
    "# main\n",
    "arr = [7,8,9,10,11,12,12,14]\n",
    "n = len(arr)\n",
    "position=4\n",
    "splitArr(arr, n, position)\n",
    "\n",
    "for i in range(0,n):\n",
    "    print(arr[i], end=' ')"
   ]
  },
  {
   "cell_type": "code",
   "execution_count": 3,
   "id": "13c3a4d3",
   "metadata": {},
   "outputs": [],
   "source": [
    "# 5. Write a python program to check if given array is Monotonic?"
   ]
  },
  {
   "cell_type": "code",
   "execution_count": 4,
   "id": "6b2e6605",
   "metadata": {},
   "outputs": [
    {
     "name": "stdout",
     "output_type": "stream",
     "text": [
      "True\n"
     ]
    }
   ],
   "source": [
    "def isMonotonic(A):\n",
    "    x , y = [],[]\n",
    "    x.extend(A)\n",
    "    y.extend(A)\n",
    "    x.sort()\n",
    "    y.sort(reverse=True)\n",
    "    if(x == A or y == A):\n",
    "        return True\n",
    "    return False\n",
    "\n",
    "#Driver Program\n",
    "A = [7,6,5,4,3,2,1]\n",
    "# Print required result\n",
    "print(isMonotonic(A))"
   ]
  },
  {
   "cell_type": "code",
   "execution_count": null,
   "id": "21196d2e",
   "metadata": {},
   "outputs": [],
   "source": []
  }
 ],
 "metadata": {
  "kernelspec": {
   "display_name": "Python 3 (ipykernel)",
   "language": "python",
   "name": "python3"
  },
  "language_info": {
   "codemirror_mode": {
    "name": "ipython",
    "version": 3
   },
   "file_extension": ".py",
   "mimetype": "text/x-python",
   "name": "python",
   "nbconvert_exporter": "python",
   "pygments_lexer": "ipython3",
   "version": "3.9.12"
  }
 },
 "nbformat": 4,
 "nbformat_minor": 5
}
