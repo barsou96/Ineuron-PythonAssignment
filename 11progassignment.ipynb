{
 "cells": [
  {
   "cell_type": "code",
   "execution_count": 1,
   "id": "137a69c9",
   "metadata": {},
   "outputs": [],
   "source": [
    "# 1. Write a python program to find words which are greater than given length k?"
   ]
  },
  {
   "cell_type": "code",
   "execution_count": 5,
   "id": "f8276d88",
   "metadata": {},
   "outputs": [
    {
     "name": "stdout",
     "output_type": "stream",
     "text": [
      "['geeks', 'geeks']\n"
     ]
    }
   ],
   "source": [
    "# function find string greater than length k\n",
    "def string_k(k, str):\n",
    "    # create the emtpy string\n",
    "    string=[]\n",
    "    \n",
    "    #split the string where space conmes\n",
    "    text = str.split(\" \")\n",
    "    \n",
    "    # iterate the loop till every substring\n",
    "    for x in text:\n",
    "        #if length of current substring is greater than k then\n",
    "        if len(x) > k:\n",
    "            #append this substring in string list\n",
    "            string.append(x)\n",
    "            \n",
    "    #return string list\n",
    "    return string\n",
    "# driver program\n",
    "k = 3\n",
    "str=\"geeks for geeks\"\n",
    "print(string_k(k,str))"
   ]
  },
  {
   "cell_type": "code",
   "execution_count": 6,
   "id": "d7e20176",
   "metadata": {},
   "outputs": [],
   "source": [
    "# 2.  Write a python program for removing i-th charecter from a string?"
   ]
  },
  {
   "cell_type": "code",
   "execution_count": 7,
   "id": "7c35ab63",
   "metadata": {},
   "outputs": [
    {
     "name": "stdout",
     "output_type": "stream",
     "text": [
      "The string after removal of ith charecter: GeksForGeeks\n"
     ]
    }
   ],
   "source": [
    "test_str = \"GeeksForGeeks\"\n",
    "#removing char at pos 3\n",
    "new_str = \"\"\n",
    "\n",
    "for i in range(len(test_str)):\n",
    "    if i != 2:\n",
    "        new_str = new_str + test_str[i]\n",
    "        \n",
    "#printing string after removal\n",
    "print(\"The string after removal of ith charecter: \"+ new_str)"
   ]
  },
  {
   "cell_type": "code",
   "execution_count": 8,
   "id": "e6a167e8",
   "metadata": {},
   "outputs": [],
   "source": [
    "# 3. Write a python program to split and join a string?"
   ]
  },
  {
   "cell_type": "code",
   "execution_count": 9,
   "id": "ee30a46b",
   "metadata": {},
   "outputs": [
    {
     "name": "stdout",
     "output_type": "stream",
     "text": [
      "['Geeks', 'for', 'Geeks']\n",
      "Geeks-for-Geeks\n"
     ]
    }
   ],
   "source": [
    "#python program to split a string and join it using delimiter\n",
    "def split_string(string):\n",
    "    #Split the string based on space delimiter\n",
    "    list_string = string.split(' ')\n",
    "    \n",
    "    return list_string\n",
    "def join_string(list_string):\n",
    "    # join the string based on '-' delimiter\n",
    "    string = '-'.join(list_string)\n",
    "    \n",
    "    return string\n",
    "#Driver function\n",
    "if __name__ == '__main__':\n",
    "    string = 'Geeks for Geeks'\n",
    "    \n",
    "    #splitting a string\n",
    "    list_string = split_string(string)\n",
    "    print(list_string)\n",
    "    \n",
    "    #join list of string into one\n",
    "    new_string = join_string(list_string)\n",
    "    print(new_string)"
   ]
  },
  {
   "cell_type": "code",
   "execution_count": 10,
   "id": "1dcb3e28",
   "metadata": {},
   "outputs": [],
   "source": [
    "# 4. Write a python program to check if a given string is binary or not?"
   ]
  },
  {
   "cell_type": "code",
   "execution_count": 11,
   "id": "45f1f4df",
   "metadata": {},
   "outputs": [
    {
     "name": "stdout",
     "output_type": "stream",
     "text": [
      "Yes\n"
     ]
    }
   ],
   "source": [
    "# python program to check if a string is binary or not\n",
    "# function for checking the string is accepted or not\n",
    "def check(string):\n",
    "    \n",
    "    #set function convert string into set of charecters\n",
    "    p = set(string)\n",
    "    \n",
    "    #declare set of '0', '1'\n",
    "    s = {'0','1'}\n",
    "    \n",
    "    #check set p is same as set s\n",
    "    # or set p contains only '0'\n",
    "    # or set p contains only '1'\n",
    "    # or not, if any one condition\n",
    "    # is true then string is accepted otherwise not\n",
    "    if s == p or p == {'0'} or p == {'1'}:\n",
    "        print(\"Yes\")\n",
    "    else:\n",
    "        print(\"No\")\n",
    "        \n",
    "# driver code\n",
    "if __name__ == \"__main__\":\n",
    "    string = \"101010000111\"\n",
    "    \n",
    "    #function calling\n",
    "    check(string)"
   ]
  },
  {
   "cell_type": "code",
   "execution_count": 12,
   "id": "035e0650",
   "metadata": {},
   "outputs": [],
   "source": [
    "# 5. Write a python program to find uncommon words from two string?"
   ]
  },
  {
   "cell_type": "code",
   "execution_count": 13,
   "id": "ddfe5875",
   "metadata": {},
   "outputs": [
    {
     "name": "stdout",
     "output_type": "stream",
     "text": [
      "['Learning', 'from']\n"
     ]
    }
   ],
   "source": [
    "# program to find a list of uncoomon words\n",
    "# function to return all uncommon words\n",
    "\n",
    "def UncommonWords(A,B):\n",
    "    # count will contain all the word counts\n",
    "    count = {}\n",
    "    \n",
    "    # insert words of string A to hash\n",
    "    for word in A.split():\n",
    "        count[word] = count.get(word, 0) + 1\n",
    "        \n",
    "    # insert words of string B to hash\n",
    "    for word in B.split():\n",
    "        count[word] = count.get(word, 0) + 1\n",
    "        \n",
    "    # return required list of words\n",
    "    return [word for word in count if count[word] == 1]\n",
    "\n",
    "#Driver code\n",
    "A = \"Geeks for Geeks\"\n",
    "B = \"Learning from Geeks for Geeks\"\n",
    "# Print required answer\n",
    "print(UncommonWords(A,B))"
   ]
  },
  {
   "cell_type": "code",
   "execution_count": 14,
   "id": "15314d08",
   "metadata": {},
   "outputs": [],
   "source": [
    "# 6. Write a program to find duplicate charecters in string?"
   ]
  },
  {
   "cell_type": "code",
   "execution_count": 19,
   "id": "2ded41fc",
   "metadata": {},
   "outputs": [
    {
     "name": "stdout",
     "output_type": "stream",
     "text": [
      "['g', 'e', 'k', 's']\n"
     ]
    }
   ],
   "source": [
    "def duplicate_characters(string):\n",
    "\t# Create an empty dictionary\n",
    "\tchars = {}\n",
    "\n",
    "\t# Iterate through each character in the string\n",
    "\tfor char in string:\n",
    "\t\t# If the character is not in the dictionary, add it\n",
    "\t\tif char not in chars:\n",
    "\t\t\tchars[char] = 1\n",
    "\t\telse:\n",
    "\t\t\t# If the character is already in the dictionary, increment the count\n",
    "\t\t\tchars[char] += 1\n",
    "\n",
    "\t# Create a list to store the duplicate characters\n",
    "\tduplicates = []\n",
    "\n",
    "\t# Iterate through the dictionary to find characters with count greater than 1\n",
    "\tfor char, count in chars.items():\n",
    "\t\tif count > 1:\n",
    "\t\t\tduplicates.append(char)\n",
    "\n",
    "\treturn duplicates\n",
    "\n",
    "# Test cases\n",
    "print(duplicate_characters(\"geeksforgeeks\"))\n"
   ]
  },
  {
   "cell_type": "code",
   "execution_count": 20,
   "id": "300f1aea",
   "metadata": {},
   "outputs": [],
   "source": [
    "# 7 Write a program to check if a string contains any special charecter?"
   ]
  },
  {
   "cell_type": "code",
   "execution_count": 21,
   "id": "25a1db43",
   "metadata": {},
   "outputs": [
    {
     "name": "stdout",
     "output_type": "stream",
     "text": [
      "String is accepted\n"
     ]
    }
   ],
   "source": [
    "# python program to check if a string contains any special charecter\n",
    "#import required package\n",
    "import re\n",
    "\n",
    "# function checks if the string contains any special charecter\n",
    "def run(string):\n",
    "    \n",
    "    # make own charecter set and pass this argument in compile method\n",
    "    regex = re.compile('[@_!#$%^&*()<>?/\\|]}~:]')\n",
    "    \n",
    "    #pass the string in search method of regex object\n",
    "    if (regex.search(string) == None):\n",
    "        print(\"String is accepted\")\n",
    "    else:\n",
    "        print(\"String is not accepted\")\n",
    "        \n",
    "# Driver code\n",
    "if __name__ == '__main__' :\n",
    "    # Enter the string\n",
    "    string = \"Geeks$For$Geeks\"\n",
    "    \n",
    "    # calling run function\n",
    "    run(string)"
   ]
  },
  {
   "cell_type": "code",
   "execution_count": null,
   "id": "5133f591",
   "metadata": {},
   "outputs": [],
   "source": []
  }
 ],
 "metadata": {
  "kernelspec": {
   "display_name": "Python 3 (ipykernel)",
   "language": "python",
   "name": "python3"
  },
  "language_info": {
   "codemirror_mode": {
    "name": "ipython",
    "version": 3
   },
   "file_extension": ".py",
   "mimetype": "text/x-python",
   "name": "python",
   "nbconvert_exporter": "python",
   "pygments_lexer": "ipython3",
   "version": "3.9.12"
  }
 },
 "nbformat": 4,
 "nbformat_minor": 5
}
