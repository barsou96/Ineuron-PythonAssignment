{
 "cells": [
  {
   "cell_type": "code",
   "execution_count": 1,
   "id": "90d1f3fb",
   "metadata": {},
   "outputs": [],
   "source": [
    "# 1 .Write a python program for factorial of a number?"
   ]
  },
  {
   "cell_type": "code",
   "execution_count": 4,
   "id": "71875388",
   "metadata": {},
   "outputs": [
    {
     "name": "stdout",
     "output_type": "stream",
     "text": [
      "Enter a number: 12\n",
      "The factorial of 12 is 479001600\n"
     ]
    }
   ],
   "source": [
    "# Python program to find the factorial of a number provided by the user\n",
    "#To take input from the user\n",
    "num = int(input(\"Enter a number: \"))\n",
    "\n",
    "factorial = 1\n",
    "\n",
    "# check if the number is negative, positive or zero\n",
    "if num < 0:\n",
    "    print(\"Sorry, factorial does not exist for negative numbers\")\n",
    "elif num == 0:\n",
    "    print(\"The factorial of 0 is 1\")\n",
    "else:\n",
    "    for i in range(1,num+1):\n",
    "        factorial = factorial*i\n",
    "    print(\"The factorial of\",num,\"is\",factorial)\n",
    "    "
   ]
  },
  {
   "cell_type": "code",
   "execution_count": 5,
   "id": "8ffbbaa3",
   "metadata": {},
   "outputs": [
    {
     "name": "stdout",
     "output_type": "stream",
     "text": [
      "Enter a number: 34\n",
      "The factorial of 34 is 295232799039604140847618609643520000000\n"
     ]
    }
   ],
   "source": [
    "# Python program to find the factorial of a number provided by the user using recursion\n",
    "def factorial(x):\n",
    "    \"\"\"This is a recursive finction to find\n",
    "    the factorial of an integer\"\"\"\n",
    "    \n",
    "    if x == 1:\n",
    "        return 1\n",
    "    else:\n",
    "        # recursive call to the function\n",
    "        return (x * factorial(x-1))\n",
    "    \n",
    "num = int(input(\"Enter a number: \"))\n",
    "# call the factorial function\n",
    "result = factorial(num)\n",
    "print(\"The factorial of\", num, \"is\", result)"
   ]
  },
  {
   "cell_type": "code",
   "execution_count": 6,
   "id": "c83bca13",
   "metadata": {},
   "outputs": [],
   "source": [
    "# 2. Write a python program to display the multiplication table?\n"
   ]
  },
  {
   "cell_type": "code",
   "execution_count": 7,
   "id": "53596e93",
   "metadata": {},
   "outputs": [
    {
     "name": "stdout",
     "output_type": "stream",
     "text": [
      "Display multiplication table of? 21\n",
      "21 x 1 = 21\n",
      "21 x 2 = 42\n",
      "21 x 3 = 63\n",
      "21 x 4 = 84\n",
      "21 x 5 = 105\n",
      "21 x 6 = 126\n",
      "21 x 7 = 147\n",
      "21 x 8 = 168\n",
      "21 x 9 = 189\n",
      "21 x 10 = 210\n"
     ]
    }
   ],
   "source": [
    "# Multiplication table (from 1 to 10) in python\n",
    "num = int(input(\"Display multiplication table of? \"))\n",
    "\n",
    "# Iterate 10 times from i = 1 to 10\n",
    "for i in range(1, 11):\n",
    "    print(num, 'x' , i, '=' , num*i)"
   ]
  },
  {
   "cell_type": "code",
   "execution_count": 8,
   "id": "24945163",
   "metadata": {},
   "outputs": [],
   "source": [
    "# 3. Write a Python Program to print the Fibonacci Sequence?\n"
   ]
  },
  {
   "cell_type": "code",
   "execution_count": 9,
   "id": "2e7237fb",
   "metadata": {},
   "outputs": [
    {
     "name": "stdout",
     "output_type": "stream",
     "text": [
      "How many terms? 8\n",
      "Fibonacci sequence:\n",
      "0\n",
      "1\n",
      "1\n",
      "2\n",
      "3\n",
      "5\n",
      "8\n",
      "13\n"
     ]
    }
   ],
   "source": [
    "# Program to display the Fibonacci Sequence up to n-th term\n",
    "nterms = int(input(\"How many terms? \"))\n",
    "\n",
    "# first two terms\n",
    "n1, n2 = 0, 1\n",
    "count = 0\n",
    "\n",
    "# check if the number of terms is valid\n",
    "if nterms <= 0:\n",
    "    print(\"Please enter a positive integer\")\n",
    "# if there is only one term, return n1\n",
    "elif nterms == 1:\n",
    "    print(\"Fibonacci sequence upto\", nterms,\":\")\n",
    "    print(n1)\n",
    "# generate fibonacci sequence\n",
    "else:\n",
    "    print(\"Fibonacci sequence:\")\n",
    "    while count < nterms:\n",
    "        print(n1)\n",
    "        nth = n1 + n2\n",
    "        # update values\n",
    "        n1 = n2\n",
    "        n2 = nth\n",
    "        count += 1"
   ]
  },
  {
   "cell_type": "code",
   "execution_count": 11,
   "id": "eaf52df5",
   "metadata": {},
   "outputs": [
    {
     "name": "stdout",
     "output_type": "stream",
     "text": [
      "0\n",
      "1\n",
      "1\n",
      "2\n",
      "3\n",
      "5\n",
      "8\n",
      "13\n"
     ]
    }
   ],
   "source": [
    "def fib(n):\n",
    "    a = 0\n",
    "    b = 1\n",
    "    if n == 1 :\n",
    "        print(a)\n",
    "    else:\n",
    "        print(a)\n",
    "        print(b)\n",
    "        for i in range(2,n):\n",
    "            c = a + b\n",
    "            a = b\n",
    "            b = c\n",
    "            print(c)\n",
    "            \n",
    "fib(8)"
   ]
  },
  {
   "cell_type": "code",
   "execution_count": 12,
   "id": "48950b6e",
   "metadata": {},
   "outputs": [],
   "source": [
    "# 4. Write a Python Program to check armstrong number?"
   ]
  },
  {
   "cell_type": "code",
   "execution_count": 19,
   "id": "7abeb792",
   "metadata": {},
   "outputs": [
    {
     "name": "stdout",
     "output_type": "stream",
     "text": [
      "153 is an armstrong number\n"
     ]
    }
   ],
   "source": [
    "n = 153\n",
    "sum = 0\n",
    "order = len(str(n))\n",
    "copy_n = n\n",
    "while(n>0):\n",
    "    digit = n % 10\n",
    "    sum += digit**order\n",
    "    n = n//10\n",
    "if(sum == copy_n):\n",
    "    print(f\"{copy_n} is an armstrong number\")\n",
    "else:\n",
    "    print(f\"{copy_n} is not an armstrong number\")"
   ]
  },
  {
   "cell_type": "code",
   "execution_count": 21,
   "id": "911b8950",
   "metadata": {},
   "outputs": [],
   "source": [
    "# 5. Write a Python program to check Armstrong Number in an interval?"
   ]
  },
  {
   "cell_type": "code",
   "execution_count": 22,
   "id": "8b44573a",
   "metadata": {},
   "outputs": [
    {
     "name": "stdout",
     "output_type": "stream",
     "text": [
      "153\n",
      "370\n",
      "371\n",
      "407\n",
      "1634\n"
     ]
    }
   ],
   "source": [
    "lower = 100\n",
    "upper = 2000\n",
    "\n",
    "for num in range(lower, upper + 1):\n",
    "    \n",
    "    # order of number\n",
    "    order = len(str(num))\n",
    "    \n",
    "    # initialize sum\n",
    "    sum = 0\n",
    "    \n",
    "    temp = num\n",
    "    while temp > 0:\n",
    "        digit = temp % 10\n",
    "        sum += digit ** order\n",
    "        temp //= 10\n",
    "        \n",
    "    if num == sum:\n",
    "        print(num)"
   ]
  },
  {
   "cell_type": "code",
   "execution_count": 23,
   "id": "1b0d9867",
   "metadata": {},
   "outputs": [],
   "source": [
    "# 6. Write a Python Program to find the sum of Natural Numbers?"
   ]
  },
  {
   "cell_type": "code",
   "execution_count": 24,
   "id": "f6ab7043",
   "metadata": {},
   "outputs": [
    {
     "name": "stdout",
     "output_type": "stream",
     "text": [
      "The sum is 136\n"
     ]
    }
   ],
   "source": [
    "# Sum of natural numbers up to num\n",
    "\n",
    "num = 16\n",
    "\n",
    "if num < 0:\n",
    "    print(\"Enter a positive number\")\n",
    "else:\n",
    "    sum = 0\n",
    "    # use while loop to iterate until zero\n",
    "    while(num > 0):\n",
    "        sum += num\n",
    "        num -= 1\n",
    "    print(\"The sum is\", sum)"
   ]
  },
  {
   "cell_type": "code",
   "execution_count": null,
   "id": "6d51daea",
   "metadata": {},
   "outputs": [],
   "source": []
  }
 ],
 "metadata": {
  "kernelspec": {
   "display_name": "Python 3 (ipykernel)",
   "language": "python",
   "name": "python3"
  },
  "language_info": {
   "codemirror_mode": {
    "name": "ipython",
    "version": 3
   },
   "file_extension": ".py",
   "mimetype": "text/x-python",
   "name": "python",
   "nbconvert_exporter": "python",
   "pygments_lexer": "ipython3",
   "version": "3.9.12"
  }
 },
 "nbformat": 4,
 "nbformat_minor": 5
}
