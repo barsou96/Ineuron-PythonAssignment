{
 "cells": [
  {
   "cell_type": "code",
   "execution_count": 1,
   "id": "88b7b584",
   "metadata": {},
   "outputs": [],
   "source": [
    "# 1. Write a python program to convert Kilometres to Miles?"
   ]
  },
  {
   "cell_type": "code",
   "execution_count": 3,
   "id": "f0b7cb0c",
   "metadata": {},
   "outputs": [
    {
     "name": "stdout",
     "output_type": "stream",
     "text": [
      "Enter value in kilometres: 700\n",
      "700.00 kilometers is equal to 434.96 miles\n"
     ]
    }
   ],
   "source": [
    "# Taking Kilometres input from the user \n",
    "kilometers = float(input(\"Enter value in kilometres: \"))\n",
    "\n",
    "# conversion factor\n",
    "conv_fac = 0.621371\n",
    "\n",
    "# calculate miles\n",
    "miles = kilometers * conv_fac\n",
    "print('%0.2f kilometers is equal to %0.2f miles' %(kilometers,miles))"
   ]
  },
  {
   "cell_type": "code",
   "execution_count": 4,
   "id": "e9640283",
   "metadata": {},
   "outputs": [],
   "source": [
    "# 2. Write a Python program to convert Celsius to Farenhiet?\n"
   ]
  },
  {
   "cell_type": "code",
   "execution_count": 6,
   "id": "b21d1052",
   "metadata": {},
   "outputs": [
    {
     "name": "stdout",
     "output_type": "stream",
     "text": [
      "40.00 celsius is equivalent to: 104.00 Farenhiet\n"
     ]
    }
   ],
   "source": [
    "# Temperature in Celsius degree\n",
    "celsius = 40\n",
    "\n",
    "# Converting the temperature to farenhiet using the mentioned formula \n",
    "farenhiet = (celsius * 1.8) + 32\n",
    "\n",
    "# printing the result\n",
    "print('%.2f celsius is equivalent to: %.2f Farenhiet' %(celsius, farenhiet))"
   ]
  },
  {
   "cell_type": "code",
   "execution_count": 7,
   "id": "2ae3830b",
   "metadata": {},
   "outputs": [],
   "source": [
    "# 3. Write a Python program to display calendar?"
   ]
  },
  {
   "cell_type": "code",
   "execution_count": 9,
   "id": "ada3fbcc",
   "metadata": {},
   "outputs": [
    {
     "name": "stdout",
     "output_type": "stream",
     "text": [
      "     March 2023\n",
      "Mo Tu We Th Fr Sa Su\n",
      "       1  2  3  4  5\n",
      " 6  7  8  9 10 11 12\n",
      "13 14 15 16 17 18 19\n",
      "20 21 22 23 24 25 26\n",
      "27 28 29 30 31\n",
      "\n"
     ]
    }
   ],
   "source": [
    "# Program to display calendar of the given month and year\n",
    "# importing calendar module\n",
    "import calendar\n",
    "\n",
    "yy = 2023 #year\n",
    "mm = 3    #month\n",
    "\n",
    "# To take month and year input from the user\n",
    "# yy = int(input(\"Enter year: \"))\n",
    "# mm = int(input(\"Enter month: \"))\n",
    "\n",
    "# display the calendar\n",
    "print(calendar.month(yy, mm))"
   ]
  },
  {
   "cell_type": "code",
   "execution_count": 10,
   "id": "8e09f525",
   "metadata": {},
   "outputs": [],
   "source": [
    "# 4. Write a Python program to solve quadratic equation?"
   ]
  },
  {
   "cell_type": "code",
   "execution_count": 12,
   "id": "bdf9aa6b",
   "metadata": {},
   "outputs": [
    {
     "name": "stdout",
     "output_type": "stream",
     "text": [
      " real and different roots \n",
      "2.0\n",
      "-12.0\n"
     ]
    }
   ],
   "source": [
    "# Python program to find roots of quadratic equation\n",
    "import math\n",
    "\n",
    "# function for finding roots\n",
    "def equationroots( a, b, c):\n",
    "    \n",
    "    # calculating discriminant using formula\n",
    "    dis = b * b - 4 * a * c\n",
    "    sqrt_val = math.sqrt(abs(dis))\n",
    "    \n",
    "    # checking condition for discriminant\n",
    "    if dis > 0:\n",
    "        print(\" real and different roots \")\n",
    "        print((-b + sqrt_val)/(2 * a))\n",
    "        print((-b - sqrt_val)/(2 * a))\n",
    "        \n",
    "    elif dis == 0:\n",
    "        print(\"real and same roots\")\n",
    "        print(-b / (2 * a))\n",
    "        \n",
    "    # when discriminant is less than 0\n",
    "    else:\n",
    "        print(\"Complex Roots\")\n",
    "        print(-b / (2 * a), \" + i\", sqrt_val)\n",
    "        print(-b / (2 * a), \" - i\", sqrt_val)\n",
    "        \n",
    "# Driver Program\n",
    "a = 1\n",
    "b = 10\n",
    "c = -24\n",
    "\n",
    "# If a is 0, then incorrect equation \n",
    "if a == 0:\n",
    "    print(\"Input correct quadratic equation\")\n",
    "    \n",
    "else:\n",
    "    equationroots(a, b, c)"
   ]
  },
  {
   "cell_type": "code",
   "execution_count": 13,
   "id": "aac6bf22",
   "metadata": {},
   "outputs": [],
   "source": [
    "# 5. Write a Python program to swap two variables without using third variable?"
   ]
  },
  {
   "cell_type": "code",
   "execution_count": 15,
   "id": "a8da5f49",
   "metadata": {},
   "outputs": [
    {
     "name": "stdout",
     "output_type": "stream",
     "text": [
      "Before swapping: \n",
      "Value of x :  5  and y :  7\n",
      "After swapping: \n",
      "value of x :  7  and y :  5\n"
     ]
    }
   ],
   "source": [
    "# Python code to swap two numbers without using another variable\n",
    "x = 5\n",
    "y = 7\n",
    "\n",
    "print (\"Before swapping: \")\n",
    "print (\"Value of x : \", x, \" and y : \", y)\n",
    "\n",
    "# code to swap 'x' and 'y'\n",
    "x, y = y, x\n",
    "\n",
    "print (\"After swapping: \")\n",
    "print (\"value of x : \", x, \" and y : \", y)"
   ]
  },
  {
   "cell_type": "code",
   "execution_count": null,
   "id": "b5b07388",
   "metadata": {},
   "outputs": [],
   "source": [
    "\n"
   ]
  }
 ],
 "metadata": {
  "kernelspec": {
   "display_name": "Python 3 (ipykernel)",
   "language": "python",
   "name": "python3"
  },
  "language_info": {
   "codemirror_mode": {
    "name": "ipython",
    "version": 3
   },
   "file_extension": ".py",
   "mimetype": "text/x-python",
   "name": "python",
   "nbconvert_exporter": "python",
   "pygments_lexer": "ipython3",
   "version": "3.9.12"
  }
 },
 "nbformat": 4,
 "nbformat_minor": 5
}
