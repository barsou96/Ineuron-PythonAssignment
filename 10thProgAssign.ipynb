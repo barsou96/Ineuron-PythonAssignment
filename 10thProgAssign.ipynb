{
 "cells": [
  {
   "cell_type": "code",
   "execution_count": 1,
   "id": "483155a0",
   "metadata": {},
   "outputs": [],
   "source": [
    "# 1. Write a Python program to find the sum of elements in list?"
   ]
  },
  {
   "cell_type": "code",
   "execution_count": 2,
   "id": "a77bc9e8",
   "metadata": {},
   "outputs": [
    {
     "name": "stdout",
     "output_type": "stream",
     "text": [
      "Sum of all elements in given list:  74\n"
     ]
    }
   ],
   "source": [
    "total = 0\n",
    "\n",
    "#creating a list\n",
    "list1 = [11, 5, 17, 18,23]\n",
    "\n",
    "#Iterate each element in list and add them in variable total\n",
    "for ele in range(0, len(list1)):\n",
    "    total = total + list1[ele]\n",
    "    \n",
    "#printing total value\n",
    "print(\"Sum of all elements in given list: \", total)"
   ]
  },
  {
   "cell_type": "code",
   "execution_count": 3,
   "id": "7b1e6b64",
   "metadata": {},
   "outputs": [],
   "source": [
    "# 2. Write a python program to multiply all numbers in the list?"
   ]
  },
  {
   "cell_type": "code",
   "execution_count": 5,
   "id": "de9f4620",
   "metadata": {},
   "outputs": [
    {
     "name": "stdout",
     "output_type": "stream",
     "text": [
      "1\n",
      "3\n"
     ]
    }
   ],
   "source": [
    "def multiplyList(myList):\n",
    "    #Multiply elements one by one\n",
    "    result = 1\n",
    "    for x in myList:\n",
    "        result = result*x\n",
    "        return result\n",
    "    \n",
    "# Driver code\n",
    "list1 = [1,2,3]\n",
    "list2 = [3,2,4]\n",
    "print(multiplyList(list1))\n",
    "print(multiplyList(list2))"
   ]
  },
  {
   "cell_type": "code",
   "execution_count": 6,
   "id": "72b7b4df",
   "metadata": {},
   "outputs": [],
   "source": [
    "# 3. Write a python program to find smallest number in a list?"
   ]
  },
  {
   "cell_type": "code",
   "execution_count": 7,
   "id": "8a199766",
   "metadata": {},
   "outputs": [
    {
     "name": "stdout",
     "output_type": "stream",
     "text": [
      "Smallest element is: 4\n"
     ]
    }
   ],
   "source": [
    "list1 = [10,20,4,45,99]\n",
    "list1.sort()\n",
    "print(\"Smallest element is:\", list1[0])"
   ]
  },
  {
   "cell_type": "code",
   "execution_count": 8,
   "id": "4055dc26",
   "metadata": {},
   "outputs": [],
   "source": [
    "# 4. Write a python program to find the largest number in a list?"
   ]
  },
  {
   "cell_type": "code",
   "execution_count": 9,
   "id": "27bf249e",
   "metadata": {},
   "outputs": [
    {
     "name": "stdout",
     "output_type": "stream",
     "text": [
      "Largest element is: 99\n"
     ]
    }
   ],
   "source": [
    "list1 = [10,20,4,45,99]\n",
    "list1.sort()\n",
    "print(\"Largest element is:\",list1[-1])"
   ]
  },
  {
   "cell_type": "code",
   "execution_count": 10,
   "id": "d90ce635",
   "metadata": {},
   "outputs": [],
   "source": [
    "# 5. Write a Python program to find second largest number in a list?"
   ]
  },
  {
   "cell_type": "code",
   "execution_count": 11,
   "id": "4fe9c4d7",
   "metadata": {},
   "outputs": [
    {
     "name": "stdout",
     "output_type": "stream",
     "text": [
      "Second largest element is: 45\n"
     ]
    }
   ],
   "source": [
    "list1 = [10,20,20,4,45,45,45,99,99]\n",
    "list2 = list(set(list1))\n",
    "list2.sort()\n",
    "print(\"Second largest element is:\", list2[-2])"
   ]
  },
  {
   "cell_type": "code",
   "execution_count": 12,
   "id": "110c0860",
   "metadata": {},
   "outputs": [],
   "source": [
    "# 6. Write a python program to find N largest elements from a list?"
   ]
  },
  {
   "cell_type": "code",
   "execution_count": 13,
   "id": "5c340517",
   "metadata": {},
   "outputs": [
    {
     "name": "stdout",
     "output_type": "stream",
     "text": [
      "[85, 41]\n"
     ]
    }
   ],
   "source": [
    "def Nmaxelements(list1, N):\n",
    "    final_list = []\n",
    "    \n",
    "    for i in range(0, N):\n",
    "        max1 = 0\n",
    "        \n",
    "        for j in range(len(list1)):\n",
    "            if list1[j] > max1:\n",
    "                max1 = list1[j];\n",
    "                \n",
    "        list1.remove(max1);\n",
    "        final_list.append(max1)\n",
    "        \n",
    "    print(final_list)\n",
    "    \n",
    "# Driver code\n",
    "list1 = [2,6,41,85,0,3,7,6,10]\n",
    "N = 2\n",
    "# Calling the function\n",
    "Nmaxelements(list1, N)"
   ]
  },
  {
   "cell_type": "code",
   "execution_count": 14,
   "id": "2af95d6a",
   "metadata": {},
   "outputs": [],
   "source": [
    "# 7. Write a python program to print even numbers in a list?"
   ]
  },
  {
   "cell_type": "code",
   "execution_count": 15,
   "id": "85424749",
   "metadata": {},
   "outputs": [
    {
     "name": "stdout",
     "output_type": "stream",
     "text": [
      "10 4 66 "
     ]
    }
   ],
   "source": [
    "list1 = [10,21,4,45,66,93]\n",
    "for num in list1:\n",
    "    if num%2 == 0:\n",
    "        print(num, end=\" \")"
   ]
  },
  {
   "cell_type": "code",
   "execution_count": 16,
   "id": "1feb0b5d",
   "metadata": {},
   "outputs": [],
   "source": [
    "# 8. Write a python program to find odd numbers in a list?"
   ]
  },
  {
   "cell_type": "code",
   "execution_count": 17,
   "id": "e935cf37",
   "metadata": {},
   "outputs": [
    {
     "name": "stdout",
     "output_type": "stream",
     "text": [
      "21 45 93 "
     ]
    }
   ],
   "source": [
    "list1 = [10,21,4,45,66,93]\n",
    "for num in list1:\n",
    "    if num%2 != 0:\n",
    "        print(num, end=\" \")"
   ]
  },
  {
   "cell_type": "code",
   "execution_count": 18,
   "id": "559092d1",
   "metadata": {},
   "outputs": [],
   "source": [
    "# 9. Write a python program to remove empty list from list?"
   ]
  },
  {
   "cell_type": "code",
   "execution_count": 19,
   "id": "320594d8",
   "metadata": {},
   "outputs": [
    {
     "name": "stdout",
     "output_type": "stream",
     "text": [
      "The original list is: [5, 6, [], 3, [], [], 9]\n",
      "List after empty list removal: [5, 6, 3, 9]\n"
     ]
    }
   ],
   "source": [
    "test_list = [5,6,[],3,[],[],9]\n",
    "print(\"The original list is: \"+ str(test_list))\n",
    "res = [ele for ele in test_list if ele != []]\n",
    "print(\"List after empty list removal: \"+ str(res))"
   ]
  },
  {
   "cell_type": "code",
   "execution_count": 20,
   "id": "53a85c0d",
   "metadata": {},
   "outputs": [],
   "source": [
    "# 10. Write a python program to cloning or copying a list?"
   ]
  },
  {
   "cell_type": "code",
   "execution_count": 21,
   "id": "7888b740",
   "metadata": {},
   "outputs": [
    {
     "name": "stdout",
     "output_type": "stream",
     "text": [
      "Original List: [4, 8, 2, 10, 15, 18]\n",
      "After Clonig: [4, 8, 2, 10, 15, 18]\n"
     ]
    }
   ],
   "source": [
    "def Cloning(li1):\n",
    "    li_copy = li1[:]\n",
    "    return li_copy\n",
    "\n",
    "#driver code\n",
    "li1=[4,8,2,10,15,18]\n",
    "li2 = Cloning(li1)\n",
    "print(\"Original List:\",li1)\n",
    "print(\"After Clonig:\", li2)"
   ]
  },
  {
   "cell_type": "code",
   "execution_count": 22,
   "id": "7937cff0",
   "metadata": {},
   "outputs": [],
   "source": [
    "# 11. Write a python program to count occurences of an element in a list?"
   ]
  },
  {
   "cell_type": "code",
   "execution_count": 23,
   "id": "0c6da404",
   "metadata": {},
   "outputs": [
    {
     "name": "stdout",
     "output_type": "stream",
     "text": [
      "8 has occured 5 times\n"
     ]
    }
   ],
   "source": [
    "def countX(lst, x):\n",
    "    count = 0\n",
    "    for ele in lst:\n",
    "        if (ele == x):\n",
    "            count = count + 1\n",
    "    return count\n",
    "lst = [8,6,8,10,8,20,10,8,8]\n",
    "x = 8\n",
    "print('{} has occured {} times'.format(x,countX(lst, x)))"
   ]
  },
  {
   "cell_type": "code",
   "execution_count": null,
   "id": "2d24375d",
   "metadata": {},
   "outputs": [],
   "source": []
  }
 ],
 "metadata": {
  "kernelspec": {
   "display_name": "Python 3 (ipykernel)",
   "language": "python",
   "name": "python3"
  },
  "language_info": {
   "codemirror_mode": {
    "name": "ipython",
    "version": 3
   },
   "file_extension": ".py",
   "mimetype": "text/x-python",
   "name": "python",
   "nbconvert_exporter": "python",
   "pygments_lexer": "ipython3",
   "version": "3.9.12"
  }
 },
 "nbformat": 4,
 "nbformat_minor": 5
}
