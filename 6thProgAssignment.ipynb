{
 "cells": [
  {
   "cell_type": "code",
   "execution_count": 1,
   "id": "164f6b03",
   "metadata": {},
   "outputs": [],
   "source": [
    "# 1. Write a Python Program to display Fibonacci Sequence Using Recusrion?"
   ]
  },
  {
   "cell_type": "code",
   "execution_count": 2,
   "id": "fd565a03",
   "metadata": {},
   "outputs": [
    {
     "name": "stdout",
     "output_type": "stream",
     "text": [
      "Enter number of terms: 8\n",
      "0\n",
      "1\n",
      "1\n",
      "2\n",
      "3\n",
      "5\n",
      "8\n",
      "13\n"
     ]
    }
   ],
   "source": [
    "def fibo(n):\n",
    "    if (n == 1):\n",
    "        return 0\n",
    "    if (n == 2):\n",
    "        return 1\n",
    "    return (fibo(n-1) + fibo(n-2))\n",
    "\n",
    "n = int(input(\"Enter number of terms: \"))\n",
    "for i in range(1,n+1):\n",
    "    print(fibo(i))"
   ]
  },
  {
   "cell_type": "code",
   "execution_count": 3,
   "id": "5b0cc7be",
   "metadata": {},
   "outputs": [],
   "source": [
    "# 2. Write a Python Program to find Factorial of Number using Recursion?"
   ]
  },
  {
   "cell_type": "code",
   "execution_count": 4,
   "id": "ca94f4f3",
   "metadata": {},
   "outputs": [
    {
     "name": "stdout",
     "output_type": "stream",
     "text": [
      "The factorial of 7 is 5040\n"
     ]
    }
   ],
   "source": [
    "# Factorial of a number using recursion\n",
    "\n",
    "def recur_factorial(n):\n",
    "    if n == 1:\n",
    "        return n\n",
    "    else:\n",
    "        return n*recur_factorial(n-1)\n",
    "    \n",
    "num = 7\n",
    "\n",
    "# check if the number is negative\n",
    "if num < 0:\n",
    "    print(\"Sorry, factorial does not exist for negative numbers\")\n",
    "elif num == 0:\n",
    "    print(\"The factorial of 0 is 1\")\n",
    "else:\n",
    "    print(\"The factorial of\", num, \"is\", recur_factorial(num))\n",
    "    "
   ]
  },
  {
   "cell_type": "code",
   "execution_count": 5,
   "id": "ea11ee0f",
   "metadata": {},
   "outputs": [],
   "source": [
    "# 3. Write a Python Program to calculate your Body Mass Index?"
   ]
  },
  {
   "cell_type": "code",
   "execution_count": 8,
   "id": "02c4d8d5",
   "metadata": {},
   "outputs": [
    {
     "name": "stdout",
     "output_type": "stream",
     "text": [
      "Enter hieght in metres: 1.65\n",
      "Enter weight in kg: 66.7\n",
      "Your BMI is: 24.49954086317723 \n"
     ]
    }
   ],
   "source": [
    "# take inputs from the user\n",
    "\n",
    "hieght = float(input(\"Enter hieght in metres: \"))\n",
    "weight = float(input(\"Enter weight in kg: \"))\n",
    "\n",
    "# the formula for calculating bmi\n",
    "bmi = weight/(hieght**2)\n",
    "\n",
    "# print result\n",
    "\n",
    "print(\"Your BMI is: {0} \".format(bmi))"
   ]
  },
  {
   "cell_type": "code",
   "execution_count": 9,
   "id": "c41801bf",
   "metadata": {},
   "outputs": [],
   "source": [
    "# 4. Write a Python Program to calculate the natural logarithm of any number?"
   ]
  },
  {
   "cell_type": "raw",
   "id": "e2db48d9",
   "metadata": {},
   "source": [
    "1. log(a,(Base)): This function is used to compute the natural logarithm (Base e) of a. If 2 arguments\n",
    "are passed, it computes the logarithm of the desired base of argument a, numerically value of log(a)/log(Base).\n",
    "Syntax:\n",
    "math.log(a,Base)\n",
    "Parametres:\n",
    "Base : Base to which the logarithm has to be computed.\n",
    "Return value: \n",
    "Return natural log if 1 argument is passed and log with specified base if 2 arguments are passed.\n",
    "Exceptions:\n",
    "Raises ValueError if a negative number is passed as argument."
   ]
  },
  {
   "cell_type": "code",
   "execution_count": 13,
   "id": "e26dccc0",
   "metadata": {},
   "outputs": [
    {
     "name": "stdout",
     "output_type": "stream",
     "text": [
      "Natural logarithm of 14 is :2.6390573296152584\n",
      "Logarithm base 5 of 14 is :1.6397385131955606\n"
     ]
    }
   ],
   "source": [
    "# python code to demonstrate the working of log(a,Base)\n",
    "import math\n",
    "\n",
    "#Printing the log base e of 14\n",
    "print (\"Natural logarithm of 14 is :\", end=\"\")\n",
    "print (math.log(14))\n",
    "\n",
    "# Printing the log base 5 of 14\n",
    "print(\"Logarithm base 5 of 14 is :\", end=\"\")\n",
    "print (math.log(14,5))"
   ]
  },
  {
   "cell_type": "raw",
   "id": "1d8bce41",
   "metadata": {},
   "source": [
    "2. log2(a): This function is used to compute the logarithm base 2 of a. Display more accurate result than log(a,2).\n",
    "Syntax:\n",
    "math.log2(a)\n",
    "Parametres:\n",
    "a : The numeric value\n",
    "Return Value :\n",
    "Returns logarithm base 2 of a\n",
    "Exceptions:\n",
    "Raises ValueError if a negative no. is passed as argument."
   ]
  },
  {
   "cell_type": "code",
   "execution_count": 15,
   "id": "819d1c0c",
   "metadata": {},
   "outputs": [
    {
     "name": "stdout",
     "output_type": "stream",
     "text": [
      "Logarithm base 2 of 14 is :3.807354922057604\n"
     ]
    }
   ],
   "source": [
    "# Python code to demonstrate the working of log2(a)\n",
    "import math\n",
    "\n",
    "# Printing the log base 2 of 14\n",
    "print(\"Logarithm base 2 of 14 is :\", end=\"\")\n",
    "print(math.log2(14))"
   ]
  },
  {
   "cell_type": "raw",
   "id": "b5c173d5",
   "metadata": {},
   "source": [
    "3. log10(a): This function is used to compute the logarithm base 10 of a. Displays more accurate result than log(a,10).\n",
    "Syntax:\n",
    "math.log10(a)\n",
    "Parametres:\n",
    "a : The numeric value\n",
    "Return value :\n",
    "Returns logarithm base 10 of a\n",
    "Exceptions:\n",
    "Raises valueError if a negative number is passed as argument."
   ]
  },
  {
   "cell_type": "code",
   "execution_count": 16,
   "id": "ffe29847",
   "metadata": {},
   "outputs": [
    {
     "name": "stdout",
     "output_type": "stream",
     "text": [
      "Logarithm base 10 of 14 is :1.146128035678238\n"
     ]
    }
   ],
   "source": [
    "# Python code to demonstrate the working of log10(a)\n",
    "\n",
    "import math\n",
    "\n",
    "# Printing the log base 10 of 14\n",
    "print(\"Logarithm base 10 of 14 is :\",end=\"\")\n",
    "print(math.log10(14))"
   ]
  },
  {
   "cell_type": "raw",
   "id": "9259ea68",
   "metadata": {},
   "source": [
    "4. log1p(a):This function is used to compute logarithm(1+a)\n",
    "Syntax:\n",
    "math.log1p(a)\n",
    "Parametres:\n",
    "a : The numeric value\n",
    "Return Value:\n",
    "returns log(1+a)\n",
    "Exceptions:\n",
    "Raises ValueError if a negative number is passed as argument."
   ]
  },
  {
   "cell_type": "code",
   "execution_count": 18,
   "id": "4c0a3ec6",
   "metadata": {},
   "outputs": [
    {
     "name": "stdout",
     "output_type": "stream",
     "text": [
      "Logarithm(1+a) value of 14 is :2.70805020110221\n"
     ]
    }
   ],
   "source": [
    "# Python code to demonstrate the working of log1p(a)\n",
    "\n",
    "import math\n",
    "\n",
    "# Printing the log(1+a) of 14\n",
    "print(\"Logarithm(1+a) value of 14 is :\", end=\"\")\n",
    "print(math.log1p(14))"
   ]
  },
  {
   "cell_type": "code",
   "execution_count": 19,
   "id": "7012e7b8",
   "metadata": {},
   "outputs": [
    {
     "name": "stdout",
     "output_type": "stream",
     "text": [
      "log(a) value of -14 is : "
     ]
    },
    {
     "ename": "ValueError",
     "evalue": "math domain error",
     "output_type": "error",
     "traceback": [
      "\u001b[1;31m---------------------------------------------------------------------------\u001b[0m",
      "\u001b[1;31mValueError\u001b[0m                                Traceback (most recent call last)",
      "Input \u001b[1;32mIn [19]\u001b[0m, in \u001b[0;36m<cell line: 10>\u001b[1;34m()\u001b[0m\n\u001b[0;32m      7\u001b[0m \u001b[38;5;66;03m# Printing the log(a) of -14\u001b[39;00m\n\u001b[0;32m      8\u001b[0m \u001b[38;5;66;03m# Throws Exception\u001b[39;00m\n\u001b[0;32m      9\u001b[0m \u001b[38;5;28mprint\u001b[39m(\u001b[38;5;124m\"\u001b[39m\u001b[38;5;124mlog(a) value of -14 is : \u001b[39m\u001b[38;5;124m\"\u001b[39m, end\u001b[38;5;241m=\u001b[39m\u001b[38;5;124m\"\u001b[39m\u001b[38;5;124m\"\u001b[39m)\n\u001b[1;32m---> 10\u001b[0m \u001b[38;5;28mprint\u001b[39m(\u001b[43mmath\u001b[49m\u001b[38;5;241;43m.\u001b[39;49m\u001b[43mlog\u001b[49m\u001b[43m(\u001b[49m\u001b[38;5;241;43m-\u001b[39;49m\u001b[38;5;241;43m14\u001b[39;49m\u001b[43m)\u001b[49m)\n",
      "\u001b[1;31mValueError\u001b[0m: math domain error"
     ]
    }
   ],
   "source": [
    "# Exception\n",
    "#1.ValueError: This function returns value error if number is negative.\n",
    "# Python code to demonstrate the exception of log(a)\n",
    "\n",
    "import math\n",
    "\n",
    "# Printing the log(a) of -14\n",
    "# Throws Exception\n",
    "print(\"log(a) value of -14 is : \", end=\"\")\n",
    "print(math.log(-14))"
   ]
  },
  {
   "cell_type": "code",
   "execution_count": 22,
   "id": "6f88cdce",
   "metadata": {},
   "outputs": [
    {
     "name": "stdout",
     "output_type": "stream",
     "text": [
      "The number of digits in 73293 are : 5\n"
     ]
    }
   ],
   "source": [
    "# Practical Application\n",
    "# One of the application of log10() function is that it is used to compute the no.of digits of a \n",
    "# number. \n",
    "# Python code to demonstrate the application of log10(a)\n",
    "import math\n",
    "\n",
    "# Printing number of digits in 73293\n",
    "print(\"The number of digits in 73293 are : \", end=\"\")\n",
    "print(int(math.log10(73293) + 1))"
   ]
  },
  {
   "cell_type": "code",
   "execution_count": 23,
   "id": "dadc9865",
   "metadata": {},
   "outputs": [],
   "source": [
    "# 5. Write a Python Program for cube sum of first n natural numbers?"
   ]
  },
  {
   "cell_type": "code",
   "execution_count": 24,
   "id": "f5034642",
   "metadata": {},
   "outputs": [
    {
     "name": "stdout",
     "output_type": "stream",
     "text": [
      "Enter a number:- 6\n",
      "Cube of natural number =  441\n"
     ]
    }
   ],
   "source": [
    "num = int(input(\"Enter a number:- \"))\n",
    "result = 0\n",
    "for n in range(1,num+1):\n",
    "    result = result + pow(n,3)\n",
    "print(\"Cube of natural number = \", result)    \n"
   ]
  },
  {
   "cell_type": "code",
   "execution_count": null,
   "id": "3a59b6df",
   "metadata": {},
   "outputs": [],
   "source": []
  }
 ],
 "metadata": {
  "kernelspec": {
   "display_name": "Python 3 (ipykernel)",
   "language": "python",
   "name": "python3"
  },
  "language_info": {
   "codemirror_mode": {
    "name": "ipython",
    "version": 3
   },
   "file_extension": ".py",
   "mimetype": "text/x-python",
   "name": "python",
   "nbconvert_exporter": "python",
   "pygments_lexer": "ipython3",
   "version": "3.9.12"
  }
 },
 "nbformat": 4,
 "nbformat_minor": 5
}
