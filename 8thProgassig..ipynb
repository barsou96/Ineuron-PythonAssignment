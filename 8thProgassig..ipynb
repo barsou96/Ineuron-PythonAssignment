{
 "cells": [
  {
   "cell_type": "code",
   "execution_count": 1,
   "id": "2d345a29",
   "metadata": {},
   "outputs": [],
   "source": [
    "# 1. Write a Python Program to add two Matrices?\n"
   ]
  },
  {
   "cell_type": "code",
   "execution_count": 7,
   "id": "c9fbd498",
   "metadata": {},
   "outputs": [
    {
     "name": "stdout",
     "output_type": "stream",
     "text": [
      "Results: \n",
      "[6, 8, 10]\n",
      "[4, 6, 8]\n",
      "[11, 10, 16]\n"
     ]
    }
   ],
   "source": [
    "def addM(A,B):\n",
    "    result=[ [0,0,0],[0,0,0],[0,0,0] ]\n",
    "    #for rows\n",
    "    for i in range(len(A)):\n",
    "        #for columns\n",
    "        for j in range(len(A[0])):\n",
    "            result[i][j]=A[i][j] + B[i][j]\n",
    "            \n",
    "    for k in result:\n",
    "        print(k)\n",
    "        \n",
    "    return\n",
    "A = [ [ 1,2,3], [3,4,5], [6,7,8] ]\n",
    "B = [ [5,6,7], [1,2,3], [5,3,8] ]\n",
    "\n",
    "print(\"Results: \")\n",
    "addM(A,B)"
   ]
  },
  {
   "cell_type": "code",
   "execution_count": 17,
   "id": "84adb983",
   "metadata": {},
   "outputs": [],
   "source": [
    "# 2. Write a Python Program to Multiply two matrices?"
   ]
  },
  {
   "cell_type": "code",
   "execution_count": 23,
   "id": "ec12dbb1",
   "metadata": {},
   "outputs": [
    {
     "name": "stdout",
     "output_type": "stream",
     "text": [
      "Enter 9 Elements for First Matrix: \n",
      "1\n",
      "2\n",
      "3\n",
      "4\n",
      "5\n",
      "6\n",
      "7\n",
      "8\n",
      "9\n",
      "Enter 9 Elements for Second Matrix: \n",
      "9\n",
      "8\n",
      "7\n",
      "6\n",
      "5\n",
      "4\n",
      "3\n",
      "2\n",
      "1\n",
      "\n",
      "Multiplication Result of two given Matrix is:\n",
      "30 24 18 \n",
      "84 69 54 \n",
      "138 114 90 \n"
     ]
    }
   ],
   "source": [
    "matOne = []\n",
    "print(\"Enter 9 Elements for First Matrix: \")\n",
    "for i in range(3):\n",
    "    matOne.append([])\n",
    "    for j in range(3):\n",
    "        num = int(input())\n",
    "        matOne[i].append(num)\n",
    "        \n",
    "matTwo = []\n",
    "print(\"Enter 9 Elements for Second Matrix: \")\n",
    "for i in range(3):\n",
    "    matTwo.append([])\n",
    "    for j in range(3):\n",
    "        num = int(input())\n",
    "        matTwo[i].append(num)\n",
    "        \n",
    "matThree = []\n",
    "for i in range(3):\n",
    "    matThree.append([])\n",
    "    for j in range(3):\n",
    "        sum = 0\n",
    "        for k in range(3):\n",
    "            sum = sum + (matOne[i][k] * matTwo[k][j])\n",
    "        matThree[i].append(sum)\n",
    "        \n",
    "print(\"\\nMultiplication Result of two given Matrix is:\")\n",
    "for i in range(3):\n",
    "    for j in range(3):\n",
    "        print(matThree[i][j], end=' ')\n",
    "    print()\n",
    "        "
   ]
  },
  {
   "cell_type": "code",
   "execution_count": 1,
   "id": "99f10b4c",
   "metadata": {},
   "outputs": [],
   "source": [
    "# 3.Write a Python Program to transpose a Matrix?"
   ]
  },
  {
   "cell_type": "code",
   "execution_count": 4,
   "id": "d1e9f66d",
   "metadata": {},
   "outputs": [
    {
     "name": "stdout",
     "output_type": "stream",
     "text": [
      "[[1, 4, 7], [2, 5, 8], [3, 6, 9]]\n"
     ]
    }
   ],
   "source": [
    "def transpose_matrix(matrix):\n",
    "    # Get the number of rows and columns in the matrix\n",
    "    rows = len(matrix)\n",
    "    cols = len(matrix[0])\n",
    "    \n",
    "    # Create a new matrix with swapped rows and columns\n",
    "    transposed_matrix = [[0 for x in range(rows)] for y in range(cols)]\n",
    "    \n",
    "    # Iterate over the original matrix and swap the rows and columns\n",
    "    for i in range(rows):\n",
    "        for j in range(cols):\n",
    "            transposed_matrix[j][i] = matrix[i][j]\n",
    "            \n",
    "    return transposed_matrix\n",
    "matrix = [[1,2,3], [4,5,6], [7,8,9]]\n",
    "transposed_matrix = transpose_matrix(matrix)\n",
    "print(transposed_matrix)"
   ]
  },
  {
   "cell_type": "code",
   "execution_count": 1,
   "id": "6e9ba8ed",
   "metadata": {},
   "outputs": [],
   "source": [
    "# 4. Write a Python Program to sort words in alphabetical order?"
   ]
  },
  {
   "cell_type": "code",
   "execution_count": 2,
   "id": "89cce860",
   "metadata": {},
   "outputs": [
    {
     "name": "stdout",
     "output_type": "stream",
     "text": [
      "brown dog fox jumps lazy over quick the the\n"
     ]
    }
   ],
   "source": [
    "# using sorted()\n",
    "#Python program to sort the words of a string in alphabetical order\n",
    "# Function to sort the words in alphabetical order\n",
    "def Func(S):\n",
    "    W = S.split(\" \")\n",
    "    for i in range(len(W)):\n",
    "        \n",
    "        # convert all the words into lowercase\n",
    "        W[i]=W[i].lower()\n",
    "    S = sorted(W)\n",
    "    print(' '.join(S))\n",
    "    \n",
    "# Driver code\n",
    "S = \"the Quick brown fox jumPs over the Lazy Dog\"\n",
    "# function call\n",
    "Func(S)\n"
   ]
  },
  {
   "cell_type": "code",
   "execution_count": 3,
   "id": "af4c500d",
   "metadata": {},
   "outputs": [
    {
     "name": "stdout",
     "output_type": "stream",
     "text": [
      "asus dell hp lenevo\n"
     ]
    }
   ],
   "source": [
    "# using sort()\n",
    "#function to sort the words in alphabetical order\n",
    "def F(S):\n",
    "    W = S.split(\" \")\n",
    "    for i in range(len(W)):\n",
    "        W[i] = W[i].lower()\n",
    "    W.sort()\n",
    "    \n",
    "    # return the sorted words\n",
    "    return ' '.join(W)\n",
    "#Driver code\n",
    "S = \"ASUS Hp Dell LenEVo\"\n",
    "print(F(S))"
   ]
  },
  {
   "cell_type": "code",
   "execution_count": 4,
   "id": "5a3da31d",
   "metadata": {},
   "outputs": [],
   "source": [
    "# 5. Write a python program to remove punctuation from a string?"
   ]
  },
  {
   "cell_type": "code",
   "execution_count": 6,
   "id": "aac68e0d",
   "metadata": {},
   "outputs": [
    {
     "name": "stdout",
     "output_type": "stream",
     "text": [
      "Gfg is best for  Geeks \n"
     ]
    }
   ],
   "source": [
    "# Remove punctuation from a string with translate\n",
    "import string\n",
    "\n",
    "test_str = 'Gfg, is best: for ! Geeks ;'\n",
    "\n",
    "test_str = test_str.translate(str.maketrans('','',string.punctuation))\n",
    "print(test_str)"
   ]
  },
  {
   "cell_type": "code",
   "execution_count": 7,
   "id": "dd6b7cb7",
   "metadata": {},
   "outputs": [
    {
     "name": "stdout",
     "output_type": "stream",
     "text": [
      "The original string is : Gfg, is best : for ! Geeks ;\n",
      "THe string after punctuation filter : Gfg, is best  for  Geeks ;\n"
     ]
    }
   ],
   "source": [
    "# Remove Punctuation using String with Python loop\n",
    "# initializing string\n",
    "test_str = \"Gfg, is best : for ! Geeks ;\"\n",
    "\n",
    "# printing original string\n",
    "print(\"The original string is : \" + test_str)\n",
    "\n",
    "# initializing punctuations string\n",
    "punc = '''!@#$%^&*:?><|\\*-'''\n",
    "\n",
    "# Removing punctuation in string \n",
    "# using loop + punctuation string\n",
    "for ele in test_str:\n",
    "    if ele in punc:\n",
    "        test_str = test_str.replace(ele, \"\")\n",
    "        \n",
    "# printing result\n",
    "print(\"THe string after punctuation filter : \" + test_str)"
   ]
  },
  {
   "cell_type": "code",
   "execution_count": null,
   "id": "0ed57bbf",
   "metadata": {},
   "outputs": [],
   "source": []
  }
 ],
 "metadata": {
  "kernelspec": {
   "display_name": "Python 3 (ipykernel)",
   "language": "python",
   "name": "python3"
  },
  "language_info": {
   "codemirror_mode": {
    "name": "ipython",
    "version": 3
   },
   "file_extension": ".py",
   "mimetype": "text/x-python",
   "name": "python",
   "nbconvert_exporter": "python",
   "pygments_lexer": "ipython3",
   "version": "3.9.12"
  }
 },
 "nbformat": 4,
 "nbformat_minor": 5
}
